{
  "nbformat": 4,
  "nbformat_minor": 0,
  "metadata": {
    "colab": {
      "provenance": []
    },
    "kernelspec": {
      "name": "python3",
      "display_name": "Python 3"
    },
    "language_info": {
      "name": "python"
    }
  },
  "cells": [
    {
      "cell_type": "code",
      "execution_count": 8,
      "metadata": {
        "colab": {
          "base_uri": "https://localhost:8080/"
        },
        "id": "pg2rlLfwWrU8",
        "outputId": "179728f4-7579-4308-f7e2-5daa64c60d02"
      },
      "outputs": [
        {
          "output_type": "stream",
          "name": "stdout",
          "text": [
            "New created array: 2 4 6 8 10 \r\n"
          ]
        }
      ],
      "source": [
        "import array\n",
        "# initializing an array with array values and signed integers\n",
        "arr = array.array('I', [2, 4, 6, 8, 10, 12])\n",
        "#print the original array\n",
        "print (\"New created array: \",end=\"\")\n",
        "for I in range (0,5):\n",
        "    print (arr[I], end=\" \")\n",
        "print (\"\\r\")"
      ]
    },
    {
      "cell_type": "code",
      "source": [
        "#importing pandas as pd\n",
        "import pandas as pd\n",
        "#dictionary of lists\n",
        "dict = {'name':[\"Smith\",\"William\",\"Phill\",\"Paker\"],\n",
        "'age':[\"28\",\"39\",\"34\",\"36\"]}\n",
        "info = pd.DataFrame(dict,index = [True,True,False,True])\n",
        "print(info)"
      ],
      "metadata": {
        "colab": {
          "base_uri": "https://localhost:8080/"
        },
        "id": "uGE_LCRjYbUl",
        "outputId": "9fbbbd0f-ad67-404e-b46f-88c2b6536a81"
      },
      "execution_count": 10,
      "outputs": [
        {
          "output_type": "stream",
          "name": "stdout",
          "text": [
            "          name age\n",
            "True     Smith  28\n",
            "True   William  39\n",
            "False    Phill  34\n",
            "True     Paker  36\n"
          ]
        }
      ]
    },
    {
      "cell_type": "code",
      "source": [
        "#importing pandas as pd\n",
        "import pandas as pd\n",
        "#dictionary of lists\n",
        "dict = {'name':[\"Smith\",\"William\",\"Phill\",\"Paker\"],\n",
        "'age':[\"28\",\"39\",\"34\",\"36\"]}\n",
        "info = pd.DataFrame(dict,index = [True,True,False,True])\n",
        "#accessinng a dataframe using .loc function\n",
        "print(info.loc[True])"
      ],
      "metadata": {
        "colab": {
          "base_uri": "https://localhost:8080/"
        },
        "id": "QJGI_W2mavLj",
        "outputId": "403ca3e4-88ac-454c-cf66-4b94bb792a95"
      },
      "execution_count": 11,
      "outputs": [
        {
          "output_type": "stream",
          "name": "stdout",
          "text": [
            "         name age\n",
            "True    Smith  28\n",
            "True  William  39\n",
            "True    Paker  36\n"
          ]
        }
      ]
    },
    {
      "cell_type": "code",
      "source": [
        "import numpy as np\n",
        "arr = np.arange(16)\n",
        "print(\"The Original array is: \\n,arr\")\n",
        "#shape array with 2 rows and 8 columns\n",
        "arr = np.arange(16).reshape(2, 8)\n",
        "print(\"\\nreshapearray: \\n\",arr)\n",
        "#shape array with 2 rows and 8 columns\n",
        "arr = np.arange(16).reshape(8,2)\n",
        "print(\"\\nreshaped array: \\n\",arr)"
      ],
      "metadata": {
        "colab": {
          "base_uri": "https://localhost:8080/"
        },
        "id": "sq5T4cpycuhF",
        "outputId": "daed296e-8ff1-451d-a0af-48d5171ad4de"
      },
      "execution_count": 15,
      "outputs": [
        {
          "output_type": "stream",
          "name": "stdout",
          "text": [
            "The Original array is: \n",
            ",arr\n",
            "\n",
            "reshapearray: \n",
            " [[ 0  1  2  3  4  5  6  7]\n",
            " [ 8  9 10 11 12 13 14 15]]\n",
            "\n",
            "reshaped array: \n",
            " [[ 0  1]\n",
            " [ 2  3]\n",
            " [ 4  5]\n",
            " [ 6  7]\n",
            " [ 8  9]\n",
            " [10 11]\n",
            " [12 13]\n",
            " [14 15]]\n"
          ]
        }
      ]
    }
  ]
}